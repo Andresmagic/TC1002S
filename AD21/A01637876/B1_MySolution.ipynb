{
 "cells": [
  {
   "cell_type": "markdown",
   "metadata": {},
   "source": [
    "# TC1002S Herramientas computacionales: el arte de la analítica\n",
    "\n",
    "This is a notebook with all your work for the final evidence of this course\n",
    "\n",
    "\n",
    "# Niveles de dominio a demostrar con la evidencia\n",
    "\n",
    "### SING0202A\n",
    "\n",
    "Interpreta interacciones entre variables relevantes en un problema, como base para la construcción de modelos bivariados basados en datos de un fenómeno investigado que le permita reproducir la respuesta del mismo. Es capaz de construir modelos bivariados que expliquen el comportamiento de un fenómeno.\n",
    "\n",
    "\n",
    "# Student information\n",
    "\n",
    "- Name: Jessica Nicole Copado Leal\n",
    "\n",
    "- ID: A01637876\n",
    "\n",
    "- My career: ITC\n"
   ]
  },
  {
   "cell_type": "markdown",
   "metadata": {},
   "source": [
    "# Importing libraries"
   ]
  },
  {
   "cell_type": "code",
   "execution_count": 20,
   "metadata": {},
   "outputs": [],
   "source": [
    "# Import the packages that we will be using\n",
    "import pandas as pd                 # For data handling\n",
    "import seaborn as sns               # For advanced plotting\n",
    "import matplotlib.pyplot as plt     # For showing plots"
   ]
  },
  {
   "cell_type": "markdown",
   "metadata": {},
   "source": [
    "# A1 Load your dataset"
   ]
  },
  {
   "cell_type": "code",
   "execution_count": 21,
   "metadata": {},
   "outputs": [],
   "source": [
    "# Dataset url\n",
    "url = \"datasets/evidencia4/A01637876.csv\"\n",
    "\n",
    "# Load the dataset\n",
    "dataset = pd.read_csv(url)"
   ]
  },
  {
   "cell_type": "markdown",
   "metadata": {},
   "source": [
    "# A2 Data Managment\n"
   ]
  },
  {
   "cell_type": "markdown",
   "metadata": {},
   "source": [
    "Print the first 7 rows"
   ]
  },
  {
   "cell_type": "code",
   "execution_count": 22,
   "metadata": {},
   "outputs": [
    {
     "data": {
      "text/html": [
       "<div>\n",
       "<style scoped>\n",
       "    .dataframe tbody tr th:only-of-type {\n",
       "        vertical-align: middle;\n",
       "    }\n",
       "\n",
       "    .dataframe tbody tr th {\n",
       "        vertical-align: top;\n",
       "    }\n",
       "\n",
       "    .dataframe thead th {\n",
       "        text-align: right;\n",
       "    }\n",
       "</style>\n",
       "<table border=\"1\" class=\"dataframe\">\n",
       "  <thead>\n",
       "    <tr style=\"text-align: right;\">\n",
       "      <th></th>\n",
       "      <th>Unnamed: 0</th>\n",
       "      <th>x1</th>\n",
       "      <th>x2</th>\n",
       "    </tr>\n",
       "  </thead>\n",
       "  <tbody>\n",
       "    <tr>\n",
       "      <th>0</th>\n",
       "      <td>0</td>\n",
       "      <td>-10.020261</td>\n",
       "      <td>2.121302</td>\n",
       "    </tr>\n",
       "    <tr>\n",
       "      <th>1</th>\n",
       "      <td>1</td>\n",
       "      <td>4.991281</td>\n",
       "      <td>7.806795</td>\n",
       "    </tr>\n",
       "    <tr>\n",
       "      <th>2</th>\n",
       "      <td>2</td>\n",
       "      <td>-7.168814</td>\n",
       "      <td>2.264914</td>\n",
       "    </tr>\n",
       "    <tr>\n",
       "      <th>3</th>\n",
       "      <td>3</td>\n",
       "      <td>-7.448985</td>\n",
       "      <td>10.860612</td>\n",
       "    </tr>\n",
       "    <tr>\n",
       "      <th>4</th>\n",
       "      <td>4</td>\n",
       "      <td>-8.893356</td>\n",
       "      <td>0.974607</td>\n",
       "    </tr>\n",
       "    <tr>\n",
       "      <th>5</th>\n",
       "      <td>5</td>\n",
       "      <td>7.701521</td>\n",
       "      <td>8.576985</td>\n",
       "    </tr>\n",
       "    <tr>\n",
       "      <th>6</th>\n",
       "      <td>6</td>\n",
       "      <td>-9.851905</td>\n",
       "      <td>0.149034</td>\n",
       "    </tr>\n",
       "    <tr>\n",
       "      <th>7</th>\n",
       "      <td>7</td>\n",
       "      <td>4.237889</td>\n",
       "      <td>7.696599</td>\n",
       "    </tr>\n",
       "    <tr>\n",
       "      <th>8</th>\n",
       "      <td>8</td>\n",
       "      <td>8.337439</td>\n",
       "      <td>6.612908</td>\n",
       "    </tr>\n",
       "    <tr>\n",
       "      <th>9</th>\n",
       "      <td>9</td>\n",
       "      <td>-6.793375</td>\n",
       "      <td>7.420315</td>\n",
       "    </tr>\n",
       "    <tr>\n",
       "      <th>10</th>\n",
       "      <td>10</td>\n",
       "      <td>4.592469</td>\n",
       "      <td>9.158405</td>\n",
       "    </tr>\n",
       "    <tr>\n",
       "      <th>11</th>\n",
       "      <td>11</td>\n",
       "      <td>-4.059209</td>\n",
       "      <td>3.616598</td>\n",
       "    </tr>\n",
       "    <tr>\n",
       "      <th>12</th>\n",
       "      <td>12</td>\n",
       "      <td>-6.072794</td>\n",
       "      <td>0.705930</td>\n",
       "    </tr>\n",
       "    <tr>\n",
       "      <th>13</th>\n",
       "      <td>13</td>\n",
       "      <td>-5.802741</td>\n",
       "      <td>3.331907</td>\n",
       "    </tr>\n",
       "    <tr>\n",
       "      <th>14</th>\n",
       "      <td>14</td>\n",
       "      <td>-6.948748</td>\n",
       "      <td>1.383931</td>\n",
       "    </tr>\n",
       "    <tr>\n",
       "      <th>15</th>\n",
       "      <td>15</td>\n",
       "      <td>-8.132004</td>\n",
       "      <td>14.202867</td>\n",
       "    </tr>\n",
       "    <tr>\n",
       "      <th>16</th>\n",
       "      <td>16</td>\n",
       "      <td>-7.042970</td>\n",
       "      <td>8.898116</td>\n",
       "    </tr>\n",
       "  </tbody>\n",
       "</table>\n",
       "</div>"
      ],
      "text/plain": [
       "    Unnamed: 0         x1         x2\n",
       "0            0 -10.020261   2.121302\n",
       "1            1   4.991281   7.806795\n",
       "2            2  -7.168814   2.264914\n",
       "3            3  -7.448985  10.860612\n",
       "4            4  -8.893356   0.974607\n",
       "5            5   7.701521   8.576985\n",
       "6            6  -9.851905   0.149034\n",
       "7            7   4.237889   7.696599\n",
       "8            8   8.337439   6.612908\n",
       "9            9  -6.793375   7.420315\n",
       "10          10   4.592469   9.158405\n",
       "11          11  -4.059209   3.616598\n",
       "12          12  -6.072794   0.705930\n",
       "13          13  -5.802741   3.331907\n",
       "14          14  -6.948748   1.383931\n",
       "15          15  -8.132004  14.202867\n",
       "16          16  -7.042970   8.898116"
      ]
     },
     "execution_count": 22,
     "metadata": {},
     "output_type": "execute_result"
    }
   ],
   "source": [
    "# Drop empty cells\n",
    "dataset = dataset.dropna()\n",
    "\n",
    "dataset.head(17)"
   ]
  },
  {
   "cell_type": "markdown",
   "metadata": {},
   "source": [
    "Print the first 4 last rows"
   ]
  },
  {
   "cell_type": "code",
   "execution_count": 23,
   "metadata": {},
   "outputs": [
    {
     "data": {
      "text/html": [
       "<div>\n",
       "<style scoped>\n",
       "    .dataframe tbody tr th:only-of-type {\n",
       "        vertical-align: middle;\n",
       "    }\n",
       "\n",
       "    .dataframe tbody tr th {\n",
       "        vertical-align: top;\n",
       "    }\n",
       "\n",
       "    .dataframe thead th {\n",
       "        text-align: right;\n",
       "    }\n",
       "</style>\n",
       "<table border=\"1\" class=\"dataframe\">\n",
       "  <thead>\n",
       "    <tr style=\"text-align: right;\">\n",
       "      <th></th>\n",
       "      <th>Unnamed: 0</th>\n",
       "      <th>x1</th>\n",
       "      <th>x2</th>\n",
       "    </tr>\n",
       "  </thead>\n",
       "  <tbody>\n",
       "    <tr>\n",
       "      <th>872</th>\n",
       "      <td>872</td>\n",
       "      <td>-8.386085</td>\n",
       "      <td>4.999825</td>\n",
       "    </tr>\n",
       "    <tr>\n",
       "      <th>873</th>\n",
       "      <td>873</td>\n",
       "      <td>-7.389736</td>\n",
       "      <td>0.046036</td>\n",
       "    </tr>\n",
       "    <tr>\n",
       "      <th>874</th>\n",
       "      <td>874</td>\n",
       "      <td>-7.167603</td>\n",
       "      <td>8.236485</td>\n",
       "    </tr>\n",
       "    <tr>\n",
       "      <th>875</th>\n",
       "      <td>875</td>\n",
       "      <td>-7.288626</td>\n",
       "      <td>11.091127</td>\n",
       "    </tr>\n",
       "  </tbody>\n",
       "</table>\n",
       "</div>"
      ],
      "text/plain": [
       "     Unnamed: 0        x1         x2\n",
       "872         872 -8.386085   4.999825\n",
       "873         873 -7.389736   0.046036\n",
       "874         874 -7.167603   8.236485\n",
       "875         875 -7.288626  11.091127"
      ]
     },
     "execution_count": 23,
     "metadata": {},
     "output_type": "execute_result"
    }
   ],
   "source": [
    "dataset.tail(4)"
   ]
  },
  {
   "cell_type": "markdown",
   "metadata": {},
   "source": [
    "How many rows and columns are in your data?\n",
    "\n",
    "Use the `shape` method\n"
   ]
  },
  {
   "cell_type": "code",
   "execution_count": 24,
   "metadata": {},
   "outputs": [
    {
     "data": {
      "text/plain": [
       "(876, 3)"
      ]
     },
     "execution_count": 24,
     "metadata": {},
     "output_type": "execute_result"
    }
   ],
   "source": [
    "dataset.shape"
   ]
  },
  {
   "cell_type": "markdown",
   "metadata": {},
   "source": [
    "Print the name of all columns \n",
    "\n",
    "Use the `columns` method"
   ]
  },
  {
   "cell_type": "code",
   "execution_count": 25,
   "metadata": {},
   "outputs": [
    {
     "data": {
      "text/plain": [
       "Index(['Unnamed: 0', 'x1', 'x2'], dtype='object')"
      ]
     },
     "execution_count": 25,
     "metadata": {},
     "output_type": "execute_result"
    }
   ],
   "source": [
    "dataset.columns"
   ]
  },
  {
   "cell_type": "code",
   "execution_count": 26,
   "metadata": {},
   "outputs": [
    {
     "data": {
      "text/html": [
       "<div>\n",
       "<style scoped>\n",
       "    .dataframe tbody tr th:only-of-type {\n",
       "        vertical-align: middle;\n",
       "    }\n",
       "\n",
       "    .dataframe tbody tr th {\n",
       "        vertical-align: top;\n",
       "    }\n",
       "\n",
       "    .dataframe thead th {\n",
       "        text-align: right;\n",
       "    }\n",
       "</style>\n",
       "<table border=\"1\" class=\"dataframe\">\n",
       "  <thead>\n",
       "    <tr style=\"text-align: right;\">\n",
       "      <th></th>\n",
       "      <th>x1</th>\n",
       "      <th>x2</th>\n",
       "    </tr>\n",
       "  </thead>\n",
       "  <tbody>\n",
       "    <tr>\n",
       "      <th>0</th>\n",
       "      <td>-10.020261</td>\n",
       "      <td>2.121302</td>\n",
       "    </tr>\n",
       "    <tr>\n",
       "      <th>1</th>\n",
       "      <td>4.991281</td>\n",
       "      <td>7.806795</td>\n",
       "    </tr>\n",
       "    <tr>\n",
       "      <th>2</th>\n",
       "      <td>-7.168814</td>\n",
       "      <td>2.264914</td>\n",
       "    </tr>\n",
       "    <tr>\n",
       "      <th>3</th>\n",
       "      <td>-7.448985</td>\n",
       "      <td>10.860612</td>\n",
       "    </tr>\n",
       "    <tr>\n",
       "      <th>4</th>\n",
       "      <td>-8.893356</td>\n",
       "      <td>0.974607</td>\n",
       "    </tr>\n",
       "    <tr>\n",
       "      <th>...</th>\n",
       "      <td>...</td>\n",
       "      <td>...</td>\n",
       "    </tr>\n",
       "    <tr>\n",
       "      <th>871</th>\n",
       "      <td>-5.746200</td>\n",
       "      <td>5.627153</td>\n",
       "    </tr>\n",
       "    <tr>\n",
       "      <th>872</th>\n",
       "      <td>-8.386085</td>\n",
       "      <td>4.999825</td>\n",
       "    </tr>\n",
       "    <tr>\n",
       "      <th>873</th>\n",
       "      <td>-7.389736</td>\n",
       "      <td>0.046036</td>\n",
       "    </tr>\n",
       "    <tr>\n",
       "      <th>874</th>\n",
       "      <td>-7.167603</td>\n",
       "      <td>8.236485</td>\n",
       "    </tr>\n",
       "    <tr>\n",
       "      <th>875</th>\n",
       "      <td>-7.288626</td>\n",
       "      <td>11.091127</td>\n",
       "    </tr>\n",
       "  </tbody>\n",
       "</table>\n",
       "<p>876 rows × 2 columns</p>\n",
       "</div>"
      ],
      "text/plain": [
       "            x1         x2\n",
       "0   -10.020261   2.121302\n",
       "1     4.991281   7.806795\n",
       "2    -7.168814   2.264914\n",
       "3    -7.448985  10.860612\n",
       "4    -8.893356   0.974607\n",
       "..         ...        ...\n",
       "871  -5.746200   5.627153\n",
       "872  -8.386085   4.999825\n",
       "873  -7.389736   0.046036\n",
       "874  -7.167603   8.236485\n",
       "875  -7.288626  11.091127\n",
       "\n",
       "[876 rows x 2 columns]"
      ]
     },
     "execution_count": 26,
     "metadata": {},
     "output_type": "execute_result"
    }
   ],
   "source": [
    "# Drop out non necesary columns\n",
    "dataset.drop(['Unnamed: 0'],axis='columns',inplace=True)\n",
    "\n",
    "#Visualize the dataset\n",
    "dataset"
   ]
  },
  {
   "cell_type": "markdown",
   "metadata": {},
   "source": [
    "What is the data type in each column\n",
    "\n",
    "Use the `dtypes` method "
   ]
  },
  {
   "cell_type": "code",
   "execution_count": 27,
   "metadata": {},
   "outputs": [
    {
     "data": {
      "text/plain": [
       "x1    float64\n",
       "x2    float64\n",
       "dtype: object"
      ]
     },
     "execution_count": 27,
     "metadata": {},
     "output_type": "execute_result"
    }
   ],
   "source": [
    "dataset.dtypes"
   ]
  },
  {
   "cell_type": "markdown",
   "metadata": {},
   "source": [
    "What is the meaning of rows and columns?"
   ]
  },
  {
   "cell_type": "code",
   "execution_count": 1,
   "metadata": {},
   "outputs": [],
   "source": [
    "# Your responses here\n",
    "\n",
    "# 1) Columns are the type of variable that explains a quality or quantity. \n",
    "# For example, Age, Gender, GenderGroup, Glasses, GlassesGroup, Height\n",
    "\n",
    "# 2) Rows are usually the number of observations of each type of variable."
   ]
  },
  {
   "cell_type": "markdown",
   "metadata": {},
   "source": [
    "Print a statistical summary of your columns\n"
   ]
  },
  {
   "cell_type": "code",
   "execution_count": 28,
   "metadata": {},
   "outputs": [
    {
     "data": {
      "text/html": [
       "<div>\n",
       "<style scoped>\n",
       "    .dataframe tbody tr th:only-of-type {\n",
       "        vertical-align: middle;\n",
       "    }\n",
       "\n",
       "    .dataframe tbody tr th {\n",
       "        vertical-align: top;\n",
       "    }\n",
       "\n",
       "    .dataframe thead th {\n",
       "        text-align: right;\n",
       "    }\n",
       "</style>\n",
       "<table border=\"1\" class=\"dataframe\">\n",
       "  <thead>\n",
       "    <tr style=\"text-align: right;\">\n",
       "      <th></th>\n",
       "      <th>x1</th>\n",
       "      <th>x2</th>\n",
       "    </tr>\n",
       "  </thead>\n",
       "  <tbody>\n",
       "    <tr>\n",
       "      <th>count</th>\n",
       "      <td>876.000000</td>\n",
       "      <td>876.000000</td>\n",
       "    </tr>\n",
       "    <tr>\n",
       "      <th>mean</th>\n",
       "      <td>-4.113092</td>\n",
       "      <td>5.490301</td>\n",
       "    </tr>\n",
       "    <tr>\n",
       "      <th>std</th>\n",
       "      <td>6.010214</td>\n",
       "      <td>3.516282</td>\n",
       "    </tr>\n",
       "    <tr>\n",
       "      <th>min</th>\n",
       "      <td>-12.282184</td>\n",
       "      <td>-3.256635</td>\n",
       "    </tr>\n",
       "    <tr>\n",
       "      <th>25%</th>\n",
       "      <td>-8.313497</td>\n",
       "      <td>2.605592</td>\n",
       "    </tr>\n",
       "    <tr>\n",
       "      <th>50%</th>\n",
       "      <td>-6.688643</td>\n",
       "      <td>5.312655</td>\n",
       "    </tr>\n",
       "    <tr>\n",
       "      <th>75%</th>\n",
       "      <td>-0.670730</td>\n",
       "      <td>8.232969</td>\n",
       "    </tr>\n",
       "    <tr>\n",
       "      <th>max</th>\n",
       "      <td>9.366004</td>\n",
       "      <td>15.300606</td>\n",
       "    </tr>\n",
       "  </tbody>\n",
       "</table>\n",
       "</div>"
      ],
      "text/plain": [
       "               x1          x2\n",
       "count  876.000000  876.000000\n",
       "mean    -4.113092    5.490301\n",
       "std      6.010214    3.516282\n",
       "min    -12.282184   -3.256635\n",
       "25%     -8.313497    2.605592\n",
       "50%     -6.688643    5.312655\n",
       "75%     -0.670730    8.232969\n",
       "max      9.366004   15.300606"
      ]
     },
     "execution_count": 28,
     "metadata": {},
     "output_type": "execute_result"
    }
   ],
   "source": [
    "# Summary statistics for the quantitative variables\n",
    "dataset.describe()"
   ]
  },
  {
   "cell_type": "code",
   "execution_count": 89,
   "metadata": {},
   "outputs": [],
   "source": [
    "# 1) What is the minumum and maximum values of each variable\n",
    "# MIN: x1 = -12.2821, x2 = -3.2566\n",
    "# MAX: x1 = 9.3660, x2 = 15.3006\n",
    "\n",
    "# 2) What is the mean and standar deviation of each variable\n",
    "# x1: mean = -4.1130, std = 6.0102\n",
    "# x2: mean = 5.4903, std = 3.5162\n",
    "\n",
    "# 3) What the 25%, 50% and 75% represent?\n",
    "# 25% of the data are less or equal to -8.3134 for x1, and 2.6055 for x2.\n",
    "# Median. 50% of the data are less or equal to -6.6888 for x1, and 5.3126 for x2.\n",
    "# 75% of the data are less or equal to -0.6707 for x1, and 8.2329 for x2."
   ]
  },
  {
   "cell_type": "markdown",
   "metadata": {},
   "source": [
    "Rename the columns using the same name with capital letters"
   ]
  },
  {
   "cell_type": "code",
   "execution_count": 31,
   "metadata": {},
   "outputs": [
    {
     "data": {
      "text/html": [
       "<div>\n",
       "<style scoped>\n",
       "    .dataframe tbody tr th:only-of-type {\n",
       "        vertical-align: middle;\n",
       "    }\n",
       "\n",
       "    .dataframe tbody tr th {\n",
       "        vertical-align: top;\n",
       "    }\n",
       "\n",
       "    .dataframe thead th {\n",
       "        text-align: right;\n",
       "    }\n",
       "</style>\n",
       "<table border=\"1\" class=\"dataframe\">\n",
       "  <thead>\n",
       "    <tr style=\"text-align: right;\">\n",
       "      <th></th>\n",
       "      <th>X1</th>\n",
       "      <th>X2</th>\n",
       "    </tr>\n",
       "  </thead>\n",
       "  <tbody>\n",
       "    <tr>\n",
       "      <th>0</th>\n",
       "      <td>-10.020261</td>\n",
       "      <td>2.121302</td>\n",
       "    </tr>\n",
       "    <tr>\n",
       "      <th>1</th>\n",
       "      <td>4.991281</td>\n",
       "      <td>7.806795</td>\n",
       "    </tr>\n",
       "    <tr>\n",
       "      <th>2</th>\n",
       "      <td>-7.168814</td>\n",
       "      <td>2.264914</td>\n",
       "    </tr>\n",
       "    <tr>\n",
       "      <th>3</th>\n",
       "      <td>-7.448985</td>\n",
       "      <td>10.860612</td>\n",
       "    </tr>\n",
       "    <tr>\n",
       "      <th>4</th>\n",
       "      <td>-8.893356</td>\n",
       "      <td>0.974607</td>\n",
       "    </tr>\n",
       "  </tbody>\n",
       "</table>\n",
       "</div>"
      ],
      "text/plain": [
       "          X1         X2\n",
       "0 -10.020261   2.121302\n",
       "1   4.991281   7.806795\n",
       "2  -7.168814   2.264914\n",
       "3  -7.448985  10.860612\n",
       "4  -8.893356   0.974607"
      ]
     },
     "execution_count": 31,
     "metadata": {},
     "output_type": "execute_result"
    }
   ],
   "source": [
    "dataset = dataset.rename(columns={\"x1\": \"X1\"})\n",
    "dataset = dataset.rename(columns={\"x2\": \"X2\"})\n",
    "dataset.head()"
   ]
  },
  {
   "cell_type": "markdown",
   "metadata": {},
   "source": [
    "Rename the columns to their original names"
   ]
  },
  {
   "cell_type": "code",
   "execution_count": 32,
   "metadata": {},
   "outputs": [
    {
     "data": {
      "text/html": [
       "<div>\n",
       "<style scoped>\n",
       "    .dataframe tbody tr th:only-of-type {\n",
       "        vertical-align: middle;\n",
       "    }\n",
       "\n",
       "    .dataframe tbody tr th {\n",
       "        vertical-align: top;\n",
       "    }\n",
       "\n",
       "    .dataframe thead th {\n",
       "        text-align: right;\n",
       "    }\n",
       "</style>\n",
       "<table border=\"1\" class=\"dataframe\">\n",
       "  <thead>\n",
       "    <tr style=\"text-align: right;\">\n",
       "      <th></th>\n",
       "      <th>x1</th>\n",
       "      <th>x2</th>\n",
       "    </tr>\n",
       "  </thead>\n",
       "  <tbody>\n",
       "    <tr>\n",
       "      <th>0</th>\n",
       "      <td>-10.020261</td>\n",
       "      <td>2.121302</td>\n",
       "    </tr>\n",
       "    <tr>\n",
       "      <th>1</th>\n",
       "      <td>4.991281</td>\n",
       "      <td>7.806795</td>\n",
       "    </tr>\n",
       "    <tr>\n",
       "      <th>2</th>\n",
       "      <td>-7.168814</td>\n",
       "      <td>2.264914</td>\n",
       "    </tr>\n",
       "    <tr>\n",
       "      <th>3</th>\n",
       "      <td>-7.448985</td>\n",
       "      <td>10.860612</td>\n",
       "    </tr>\n",
       "    <tr>\n",
       "      <th>4</th>\n",
       "      <td>-8.893356</td>\n",
       "      <td>0.974607</td>\n",
       "    </tr>\n",
       "  </tbody>\n",
       "</table>\n",
       "</div>"
      ],
      "text/plain": [
       "          x1         x2\n",
       "0 -10.020261   2.121302\n",
       "1   4.991281   7.806795\n",
       "2  -7.168814   2.264914\n",
       "3  -7.448985  10.860612\n",
       "4  -8.893356   0.974607"
      ]
     },
     "execution_count": 32,
     "metadata": {},
     "output_type": "execute_result"
    }
   ],
   "source": [
    "dataset = dataset.rename(columns={\"X1\": \"x1\"})\n",
    "dataset = dataset.rename(columns={\"X2\": \"x2\"})\n",
    "dataset.head()"
   ]
  },
  {
   "cell_type": "markdown",
   "metadata": {},
   "source": [
    "Use two different alternatives to get one of the columns"
   ]
  },
  {
   "cell_type": "code",
   "execution_count": 33,
   "metadata": {},
   "outputs": [
    {
     "name": "stdout",
     "output_type": "stream",
     "text": [
      "0     -10.020261\n",
      "1       4.991281\n",
      "2      -7.168814\n",
      "3      -7.448985\n",
      "4      -8.893356\n",
      "         ...    \n",
      "871    -5.746200\n",
      "872    -8.386085\n",
      "873    -7.389736\n",
      "874    -7.167603\n",
      "875    -7.288626\n",
      "Name: x1, Length: 876, dtype: float64\n"
     ]
    }
   ],
   "source": [
    "# Alternative 1\n",
    "firstColumnAlt1 = dataset.x1\n",
    "print(firstColumnAlt1)"
   ]
  },
  {
   "cell_type": "code",
   "execution_count": 34,
   "metadata": {},
   "outputs": [
    {
     "name": "stdout",
     "output_type": "stream",
     "text": [
      "0     -10.020261\n",
      "1       4.991281\n",
      "2      -7.168814\n",
      "3      -7.448985\n",
      "4      -8.893356\n",
      "         ...    \n",
      "871    -5.746200\n",
      "872    -8.386085\n",
      "873    -7.389736\n",
      "874    -7.167603\n",
      "875    -7.288626\n",
      "Name: x1, Length: 876, dtype: float64\n"
     ]
    }
   ],
   "source": [
    "# Alternative 2\n",
    "firstColumnAlt2 = dataset[\"x1\"]\n",
    "print(firstColumnAlt2)"
   ]
  },
  {
   "cell_type": "markdown",
   "metadata": {},
   "source": [
    "Get a slice of your data set: first and second columns and rows from 62 to 72"
   ]
  },
  {
   "cell_type": "code",
   "execution_count": 36,
   "metadata": {},
   "outputs": [
    {
     "data": {
      "text/html": [
       "<div>\n",
       "<style scoped>\n",
       "    .dataframe tbody tr th:only-of-type {\n",
       "        vertical-align: middle;\n",
       "    }\n",
       "\n",
       "    .dataframe tbody tr th {\n",
       "        vertical-align: top;\n",
       "    }\n",
       "\n",
       "    .dataframe thead th {\n",
       "        text-align: right;\n",
       "    }\n",
       "</style>\n",
       "<table border=\"1\" class=\"dataframe\">\n",
       "  <thead>\n",
       "    <tr style=\"text-align: right;\">\n",
       "      <th></th>\n",
       "      <th>x1</th>\n",
       "      <th>x2</th>\n",
       "    </tr>\n",
       "  </thead>\n",
       "  <tbody>\n",
       "    <tr>\n",
       "      <th>62</th>\n",
       "      <td>-8.184505</td>\n",
       "      <td>9.362986</td>\n",
       "    </tr>\n",
       "    <tr>\n",
       "      <th>63</th>\n",
       "      <td>-3.156272</td>\n",
       "      <td>2.659989</td>\n",
       "    </tr>\n",
       "    <tr>\n",
       "      <th>64</th>\n",
       "      <td>-7.263304</td>\n",
       "      <td>3.550319</td>\n",
       "    </tr>\n",
       "    <tr>\n",
       "      <th>65</th>\n",
       "      <td>-8.720140</td>\n",
       "      <td>9.244265</td>\n",
       "    </tr>\n",
       "    <tr>\n",
       "      <th>66</th>\n",
       "      <td>-6.068942</td>\n",
       "      <td>1.209565</td>\n",
       "    </tr>\n",
       "    <tr>\n",
       "      <th>67</th>\n",
       "      <td>-9.014283</td>\n",
       "      <td>2.138163</td>\n",
       "    </tr>\n",
       "    <tr>\n",
       "      <th>68</th>\n",
       "      <td>6.030830</td>\n",
       "      <td>7.713262</td>\n",
       "    </tr>\n",
       "    <tr>\n",
       "      <th>69</th>\n",
       "      <td>-6.991361</td>\n",
       "      <td>0.810585</td>\n",
       "    </tr>\n",
       "    <tr>\n",
       "      <th>70</th>\n",
       "      <td>-6.931405</td>\n",
       "      <td>1.319715</td>\n",
       "    </tr>\n",
       "    <tr>\n",
       "      <th>71</th>\n",
       "      <td>-8.902020</td>\n",
       "      <td>2.257515</td>\n",
       "    </tr>\n",
       "    <tr>\n",
       "      <th>72</th>\n",
       "      <td>-8.139885</td>\n",
       "      <td>2.518074</td>\n",
       "    </tr>\n",
       "  </tbody>\n",
       "</table>\n",
       "</div>"
      ],
      "text/plain": [
       "          x1        x2\n",
       "62 -8.184505  9.362986\n",
       "63 -3.156272  2.659989\n",
       "64 -7.263304  3.550319\n",
       "65 -8.720140  9.244265\n",
       "66 -6.068942  1.209565\n",
       "67 -9.014283  2.138163\n",
       "68  6.030830  7.713262\n",
       "69 -6.991361  0.810585\n",
       "70 -6.931405  1.319715\n",
       "71 -8.902020  2.257515\n",
       "72 -8.139885  2.518074"
      ]
     },
     "execution_count": 36,
     "metadata": {},
     "output_type": "execute_result"
    }
   ],
   "source": [
    "# Select few rows for multiple columns, [\"x1\", \"x2\"]\n",
    "dataset.loc[62:72, [\"x1\", \"x2\"]]"
   ]
  },
  {
   "cell_type": "markdown",
   "metadata": {},
   "source": [
    "For the first and second columns, calculate the number of null and not null values and verify that their sum equals the total number of rows"
   ]
  },
  {
   "cell_type": "code",
   "execution_count": 38,
   "metadata": {},
   "outputs": [
    {
     "data": {
      "text/html": [
       "<div>\n",
       "<style scoped>\n",
       "    .dataframe tbody tr th:only-of-type {\n",
       "        vertical-align: middle;\n",
       "    }\n",
       "\n",
       "    .dataframe tbody tr th {\n",
       "        vertical-align: top;\n",
       "    }\n",
       "\n",
       "    .dataframe thead th {\n",
       "        text-align: right;\n",
       "    }\n",
       "</style>\n",
       "<table border=\"1\" class=\"dataframe\">\n",
       "  <thead>\n",
       "    <tr style=\"text-align: right;\">\n",
       "      <th></th>\n",
       "      <th>x1</th>\n",
       "      <th>x2</th>\n",
       "    </tr>\n",
       "  </thead>\n",
       "  <tbody>\n",
       "    <tr>\n",
       "      <th>0</th>\n",
       "      <td>False</td>\n",
       "      <td>False</td>\n",
       "    </tr>\n",
       "    <tr>\n",
       "      <th>1</th>\n",
       "      <td>False</td>\n",
       "      <td>False</td>\n",
       "    </tr>\n",
       "    <tr>\n",
       "      <th>2</th>\n",
       "      <td>False</td>\n",
       "      <td>False</td>\n",
       "    </tr>\n",
       "    <tr>\n",
       "      <th>3</th>\n",
       "      <td>False</td>\n",
       "      <td>False</td>\n",
       "    </tr>\n",
       "    <tr>\n",
       "      <th>4</th>\n",
       "      <td>False</td>\n",
       "      <td>False</td>\n",
       "    </tr>\n",
       "    <tr>\n",
       "      <th>...</th>\n",
       "      <td>...</td>\n",
       "      <td>...</td>\n",
       "    </tr>\n",
       "    <tr>\n",
       "      <th>871</th>\n",
       "      <td>False</td>\n",
       "      <td>False</td>\n",
       "    </tr>\n",
       "    <tr>\n",
       "      <th>872</th>\n",
       "      <td>False</td>\n",
       "      <td>False</td>\n",
       "    </tr>\n",
       "    <tr>\n",
       "      <th>873</th>\n",
       "      <td>False</td>\n",
       "      <td>False</td>\n",
       "    </tr>\n",
       "    <tr>\n",
       "      <th>874</th>\n",
       "      <td>False</td>\n",
       "      <td>False</td>\n",
       "    </tr>\n",
       "    <tr>\n",
       "      <th>875</th>\n",
       "      <td>False</td>\n",
       "      <td>False</td>\n",
       "    </tr>\n",
       "  </tbody>\n",
       "</table>\n",
       "<p>876 rows × 2 columns</p>\n",
       "</div>"
      ],
      "text/plain": [
       "        x1     x2\n",
       "0    False  False\n",
       "1    False  False\n",
       "2    False  False\n",
       "3    False  False\n",
       "4    False  False\n",
       "..     ...    ...\n",
       "871  False  False\n",
       "872  False  False\n",
       "873  False  False\n",
       "874  False  False\n",
       "875  False  False\n",
       "\n",
       "[876 rows x 2 columns]"
      ]
     },
     "execution_count": 38,
     "metadata": {},
     "output_type": "execute_result"
    }
   ],
   "source": [
    "dataset.isnull()"
   ]
  },
  {
   "cell_type": "code",
   "execution_count": 39,
   "metadata": {},
   "outputs": [
    {
     "data": {
      "text/html": [
       "<div>\n",
       "<style scoped>\n",
       "    .dataframe tbody tr th:only-of-type {\n",
       "        vertical-align: middle;\n",
       "    }\n",
       "\n",
       "    .dataframe tbody tr th {\n",
       "        vertical-align: top;\n",
       "    }\n",
       "\n",
       "    .dataframe thead th {\n",
       "        text-align: right;\n",
       "    }\n",
       "</style>\n",
       "<table border=\"1\" class=\"dataframe\">\n",
       "  <thead>\n",
       "    <tr style=\"text-align: right;\">\n",
       "      <th></th>\n",
       "      <th>x1</th>\n",
       "      <th>x2</th>\n",
       "    </tr>\n",
       "  </thead>\n",
       "  <tbody>\n",
       "    <tr>\n",
       "      <th>0</th>\n",
       "      <td>True</td>\n",
       "      <td>True</td>\n",
       "    </tr>\n",
       "    <tr>\n",
       "      <th>1</th>\n",
       "      <td>True</td>\n",
       "      <td>True</td>\n",
       "    </tr>\n",
       "    <tr>\n",
       "      <th>2</th>\n",
       "      <td>True</td>\n",
       "      <td>True</td>\n",
       "    </tr>\n",
       "    <tr>\n",
       "      <th>3</th>\n",
       "      <td>True</td>\n",
       "      <td>True</td>\n",
       "    </tr>\n",
       "    <tr>\n",
       "      <th>4</th>\n",
       "      <td>True</td>\n",
       "      <td>True</td>\n",
       "    </tr>\n",
       "    <tr>\n",
       "      <th>...</th>\n",
       "      <td>...</td>\n",
       "      <td>...</td>\n",
       "    </tr>\n",
       "    <tr>\n",
       "      <th>871</th>\n",
       "      <td>True</td>\n",
       "      <td>True</td>\n",
       "    </tr>\n",
       "    <tr>\n",
       "      <th>872</th>\n",
       "      <td>True</td>\n",
       "      <td>True</td>\n",
       "    </tr>\n",
       "    <tr>\n",
       "      <th>873</th>\n",
       "      <td>True</td>\n",
       "      <td>True</td>\n",
       "    </tr>\n",
       "    <tr>\n",
       "      <th>874</th>\n",
       "      <td>True</td>\n",
       "      <td>True</td>\n",
       "    </tr>\n",
       "    <tr>\n",
       "      <th>875</th>\n",
       "      <td>True</td>\n",
       "      <td>True</td>\n",
       "    </tr>\n",
       "  </tbody>\n",
       "</table>\n",
       "<p>876 rows × 2 columns</p>\n",
       "</div>"
      ],
      "text/plain": [
       "       x1    x2\n",
       "0    True  True\n",
       "1    True  True\n",
       "2    True  True\n",
       "3    True  True\n",
       "4    True  True\n",
       "..    ...   ...\n",
       "871  True  True\n",
       "872  True  True\n",
       "873  True  True\n",
       "874  True  True\n",
       "875  True  True\n",
       "\n",
       "[876 rows x 2 columns]"
      ]
     },
     "execution_count": 39,
     "metadata": {},
     "output_type": "execute_result"
    }
   ],
   "source": [
    "dataset.notnull()"
   ]
  },
  {
   "cell_type": "code",
   "execution_count": 41,
   "metadata": {},
   "outputs": [
    {
     "data": {
      "text/plain": [
       "x1    876\n",
       "x2    876\n",
       "dtype: int64"
      ]
     },
     "execution_count": 41,
     "metadata": {},
     "output_type": "execute_result"
    }
   ],
   "source": [
    "dataset.isnull().sum()\n",
    "dataset.notnull().sum()"
   ]
  },
  {
   "cell_type": "code",
   "execution_count": 44,
   "metadata": {},
   "outputs": [
    {
     "name": "stdout",
     "output_type": "stream",
     "text": [
      "876\n",
      "0\n"
     ]
    }
   ],
   "source": [
    "# Values in first column\n",
    "print(dataset.x1.notnull().sum()) # Not null values\n",
    "print(pd.isnull(dataset.x1).sum()) # Null values"
   ]
  },
  {
   "cell_type": "code",
   "execution_count": 45,
   "metadata": {},
   "outputs": [
    {
     "name": "stdout",
     "output_type": "stream",
     "text": [
      "876\n",
      "0\n"
     ]
    }
   ],
   "source": [
    "# Values in second column\n",
    "print(dataset.x2.notnull().sum()) # Not null values\n",
    "print(pd.isnull(dataset.x2).sum()) # Null values"
   ]
  },
  {
   "cell_type": "markdown",
   "metadata": {},
   "source": [
    "### Questions \n",
    "\n",
    "Based on the previous results, provide a description of your dataset\n",
    "\n",
    "Your response: This dataset contains two columns, x1 and x2, each with 876 items (positive and negative numbers). The dataset does not contain in null values, which means that all cells contain a value. By making a statistical analysis we can observe that first column \"x1\", contains more negative numbers, while the second column \"x2\" has more positive numbers."
   ]
  },
  {
   "cell_type": "markdown",
   "metadata": {},
   "source": [
    "# A3 Data visualization"
   ]
  },
  {
   "cell_type": "markdown",
   "metadata": {},
   "source": [
    "Plot in the same figure the histogram of the two first two variables"
   ]
  },
  {
   "cell_type": "code",
   "execution_count": 56,
   "metadata": {},
   "outputs": [
    {
     "data": {
      "image/png": "[encoded data removed]",
      "text/plain": [
       "<Figure size 432x288 with 1 Axes>"
      ]
     },
     "metadata": {
      "needs_background": "light"
     },
     "output_type": "display_data"
    }
   ],
   "source": [
    "# Plot histogram of both x1 and x2\n",
    "sns.histplot(dataset[\"x1\"], kde = False)\n",
    "dfhist = sns.histplot(dataset[\"x2\"], kde = False, color = \"green\") #.set_title(\"Number Data\")\n",
    "dfhist.set_ylabel(\"Count\")\n",
    "dfhist.set_xlabel(\"x1 || x2\")\n",
    "dfhist.set_title(\"Histogram of both columns\")\n",
    "\n",
    "plt.show()"
   ]
  },
  {
   "cell_type": "markdown",
   "metadata": {},
   "source": [
    "Based on this two plots, provide a description of your data:\n",
    "\n",
    "Your response here: The second column \"x2\" has a wide variety of positive numbers, and the first column \"x1\" contains a lot more negative numbers than positive."
   ]
  },
  {
   "cell_type": "markdown",
   "metadata": {},
   "source": [
    "Plot in the same figure the boxplot of the two first two variables "
   ]
  },
  {
   "cell_type": "code",
   "execution_count": 58,
   "metadata": {},
   "outputs": [
    {
     "data": {
      "image/png": "[encoded data removed]",
      "text/plain": [
       "<Figure size 432x288 with 1 Axes>"
      ]
     },
     "metadata": {
      "needs_background": "light"
     },
     "output_type": "display_data"
    }
   ],
   "source": [
    "# Create the boxplots of both x1 and x2\n",
    "sns.boxplot(data = dataset, x = \"x1\")\n",
    "sns.boxplot(data = dataset, x = \"x2\").set_title(\"Box plot of of both columns\")\n",
    "plt.show()"
   ]
  },
  {
   "cell_type": "markdown",
   "metadata": {},
   "source": [
    "Scatter plot of the two first variables"
   ]
  },
  {
   "cell_type": "code",
   "execution_count": 67,
   "metadata": {},
   "outputs": [
    {
     "data": {
      "image/png": "[encoded data removed]",
      "text/plain": [
       "<Figure size 432x288 with 1 Axes>"
      ]
     },
     "metadata": {
      "needs_background": "light"
     },
     "output_type": "display_data"
    }
   ],
   "source": [
    "plt.scatter(dataset.x1, dataset.x2)\n",
    "plt.title('x1 vs x2')\n",
    "plt.xlabel('x2')\n",
    "plt.ylabel('x1')\n",
    "plt.show()"
   ]
  },
  {
   "cell_type": "markdown",
   "metadata": {},
   "source": [
    "### Questions \n",
    "\n",
    "Based on the previos plots, provide a description of yout dataset\n",
    "\n",
    "Your response: With these graphs we can also observe how the data is distributed. In comparison to each other, x1 has a lot more negative numbers than x2."
   ]
  },
  {
   "cell_type": "markdown",
   "metadata": {},
   "source": [
    "# A4 Kmeans"
   ]
  },
  {
   "cell_type": "markdown",
   "metadata": {},
   "source": [
    "Do Kmeans clustering assuming a number of clusters accorgind to your scatter plot"
   ]
  },
  {
   "cell_type": "code",
   "execution_count": 61,
   "metadata": {},
   "outputs": [
    {
     "data": {
      "text/plain": [
       "array([0, 1, 0, 0, 0, 1, 0, 1, 1, 0, 1, 0, 0, 0, 0, 0, 0, 0, 0, 1, 0, 0,\n",
       "       0, 1, 0, 0, 0, 0, 0, 1, 0, 0, 1, 1, 0, 1, 0, 0, 0, 0, 0, 0, 1, 1,\n",
       "       0, 0, 0, 0, 1, 1, 0, 1, 1, 0, 0, 0, 0, 0, 0, 0, 1, 1, 0, 0, 0, 0,\n",
       "       0, 0, 1, 0, 0, 0, 0, 0, 0, 0, 1, 0, 0, 1, 1, 0, 0, 0, 0, 1, 0, 0,\n",
       "       0, 0, 0, 0, 1, 1, 0, 0, 0, 0, 0, 0, 0, 0, 1, 1, 1, 0, 0, 1, 1, 0,\n",
       "       1, 0, 0, 0, 1, 0, 0, 1, 0, 0, 0, 1, 1, 1, 0, 0, 0, 0, 1, 0, 1, 0,\n",
       "       1, 0, 1, 0, 0, 0, 0, 0, 0, 0, 0, 0, 0, 1, 1, 0, 0, 0, 0, 0, 1, 0,\n",
       "       1, 0, 0, 0, 0, 1, 0, 1, 0, 1, 0, 0, 0, 0, 0, 0, 0, 1, 0, 0, 1, 0,\n",
       "       0, 0, 1, 0, 1, 0, 1, 0, 0, 1, 1, 1, 1, 0, 0, 0, 0, 1, 0, 0, 0, 1,\n",
       "       0, 0, 1, 0, 0, 1, 1, 0, 0, 0, 1, 0, 0, 1, 1, 0, 0, 0, 0, 0, 0, 1,\n",
       "       1, 0, 0, 0, 0, 0, 0, 0, 0, 0, 0, 0, 1, 0, 0, 0, 0, 0, 0, 1, 0, 0,\n",
       "       0, 0, 0, 1, 0, 0, 0, 1, 1, 0, 1, 0, 0, 1, 0, 0, 0, 0, 1, 1, 0, 0,\n",
       "       0, 0, 0, 0, 0, 0, 0, 0, 0, 0, 0, 1, 1, 0, 0, 0, 1, 0, 1, 0, 0, 1,\n",
       "       0, 0, 0, 0, 1, 0, 0, 1, 1, 0, 0, 0, 1, 1, 1, 0, 0, 0, 0, 1, 1, 0,\n",
       "       0, 0, 0, 0, 0, 0, 0, 0, 0, 0, 0, 0, 1, 0, 0, 0, 0, 1, 0, 0, 0, 0,\n",
       "       0, 1, 0, 1, 1, 0, 1, 0, 0, 0, 0, 1, 1, 0, 0, 0, 1, 0, 0, 0, 1, 0,\n",
       "       0, 0, 0, 0, 0, 0, 0, 0, 1, 0, 0, 0, 1, 1, 1, 0, 0, 1, 0, 1, 0, 0,\n",
       "       0, 0, 1, 0, 1, 1, 0, 0, 0, 0, 0, 0, 1, 0, 0, 0, 0, 0, 0, 0, 0, 0,\n",
       "       0, 1, 0, 0, 0, 0, 0, 0, 0, 1, 0, 1, 1, 0, 0, 0, 0, 1, 0, 0, 0, 0,\n",
       "       0, 0, 0, 0, 0, 0, 1, 0, 0, 1, 0, 0, 1, 0, 0, 0, 1, 0, 0, 0, 0, 0,\n",
       "       1, 0, 1, 0, 1, 0, 0, 0, 0, 1, 0, 0, 0, 0, 1, 0, 0, 0, 1, 0, 0, 0,\n",
       "       1, 0, 1, 0, 0, 0, 0, 1, 1, 0, 0, 1, 0, 0, 0, 0, 0, 0, 0, 0, 0, 0,\n",
       "       0, 1, 1, 1, 1, 0, 0, 1, 1, 0, 0, 0, 0, 0, 0, 0, 0, 0, 0, 0, 0, 0,\n",
       "       0, 0, 0, 0, 0, 0, 0, 0, 0, 1, 0, 0, 0, 1, 0, 0, 1, 0, 0, 0, 0, 0,\n",
       "       1, 0, 1, 0, 1, 0, 0, 0, 0, 1, 0, 0, 0, 0, 0, 0, 0, 0, 0, 0, 0, 0,\n",
       "       0, 0, 0, 0, 0, 0, 0, 0, 0, 0, 0, 0, 0, 0, 0, 0, 1, 0, 0, 0, 0, 1,\n",
       "       0, 0, 1, 0, 0, 1, 1, 0, 0, 1, 1, 0, 0, 0, 0, 1, 0, 0, 0, 1, 1, 0,\n",
       "       1, 0, 0, 0, 1, 1, 0, 0, 1, 0, 0, 1, 0, 0, 0, 1, 0, 0, 1, 0, 0, 0,\n",
       "       1, 0, 1, 0, 0, 0, 0, 0, 0, 0, 1, 0, 0, 0, 0, 0, 1, 0, 0, 0, 1, 0,\n",
       "       0, 1, 0, 0, 0, 0, 0, 0, 0, 0, 1, 1, 1, 1, 1, 0, 1, 0, 0, 0, 0, 0,\n",
       "       0, 0, 0, 1, 0, 0, 0, 0, 0, 0, 1, 0, 0, 0, 0, 0, 0, 0, 0, 0, 0, 0,\n",
       "       0, 0, 0, 0, 0, 0, 0, 0, 0, 0, 0, 0, 0, 0, 0, 0, 0, 0, 0, 0, 0, 0,\n",
       "       0, 1, 1, 0, 0, 0, 0, 1, 0, 1, 0, 0, 1, 0, 0, 0, 0, 0, 0, 0, 0, 0,\n",
       "       0, 0, 0, 0, 1, 0, 0, 0, 0, 0, 0, 0, 0, 1, 0, 0, 0, 1, 0, 1, 0, 0,\n",
       "       1, 0, 0, 0, 0, 1, 0, 1, 0, 0, 0, 1, 0, 0, 1, 0, 0, 0, 0, 1, 0, 1,\n",
       "       0, 0, 1, 1, 0, 1, 0, 0, 0, 1, 1, 0, 0, 1, 0, 1, 0, 0, 0, 0, 0, 0,\n",
       "       0, 0, 1, 0, 0, 0, 0, 1, 0, 0, 0, 1, 0, 0, 0, 0, 0, 0, 1, 0, 0, 0,\n",
       "       1, 0, 1, 0, 0, 1, 1, 0, 1, 1, 1, 1, 1, 1, 0, 0, 0, 1, 0, 0, 0, 0,\n",
       "       0, 0, 1, 0, 1, 0, 0, 0, 1, 0, 1, 0, 0, 0, 0, 0, 0, 0, 0, 0, 1, 0,\n",
       "       0, 0, 0, 0, 0, 0, 1, 0, 1, 0, 1, 0, 0, 0, 0, 0, 0, 0])"
      ]
     },
     "execution_count": 61,
     "metadata": {},
     "output_type": "execute_result"
    }
   ],
   "source": [
    "# Import sklearn KMeans\n",
    "from sklearn.cluster import KMeans\n",
    "\n",
    "# Define number of clusters\n",
    "km = KMeans(n_clusters=2)\n",
    "\n",
    "# Do K-means clustering (assing each point in the dataset to a cluster)\n",
    "#yp = km.fit_predict(dataset)\n",
    "yp = km.fit_predict(dataset[['x1','x2']])\n",
    "\n",
    "# Print estimated cluster of each point in the dataser\n",
    "yp"
   ]
  },
  {
   "cell_type": "markdown",
   "metadata": {},
   "source": [
    "Add to your dataset a column with the assihned cluster to each data point"
   ]
  },
  {
   "cell_type": "code",
   "execution_count": 62,
   "metadata": {},
   "outputs": [
    {
     "data": {
      "text/html": [
       "<div>\n",
       "<style scoped>\n",
       "    .dataframe tbody tr th:only-of-type {\n",
       "        vertical-align: middle;\n",
       "    }\n",
       "\n",
       "    .dataframe tbody tr th {\n",
       "        vertical-align: top;\n",
       "    }\n",
       "\n",
       "    .dataframe thead th {\n",
       "        text-align: right;\n",
       "    }\n",
       "</style>\n",
       "<table border=\"1\" class=\"dataframe\">\n",
       "  <thead>\n",
       "    <tr style=\"text-align: right;\">\n",
       "      <th></th>\n",
       "      <th>x1</th>\n",
       "      <th>x2</th>\n",
       "      <th>Cluster1</th>\n",
       "    </tr>\n",
       "  </thead>\n",
       "  <tbody>\n",
       "    <tr>\n",
       "      <th>0</th>\n",
       "      <td>-10.020261</td>\n",
       "      <td>2.121302</td>\n",
       "      <td>0</td>\n",
       "    </tr>\n",
       "    <tr>\n",
       "      <th>1</th>\n",
       "      <td>4.991281</td>\n",
       "      <td>7.806795</td>\n",
       "      <td>1</td>\n",
       "    </tr>\n",
       "    <tr>\n",
       "      <th>2</th>\n",
       "      <td>-7.168814</td>\n",
       "      <td>2.264914</td>\n",
       "      <td>0</td>\n",
       "    </tr>\n",
       "    <tr>\n",
       "      <th>3</th>\n",
       "      <td>-7.448985</td>\n",
       "      <td>10.860612</td>\n",
       "      <td>0</td>\n",
       "    </tr>\n",
       "    <tr>\n",
       "      <th>4</th>\n",
       "      <td>-8.893356</td>\n",
       "      <td>0.974607</td>\n",
       "      <td>0</td>\n",
       "    </tr>\n",
       "    <tr>\n",
       "      <th>...</th>\n",
       "      <td>...</td>\n",
       "      <td>...</td>\n",
       "      <td>...</td>\n",
       "    </tr>\n",
       "    <tr>\n",
       "      <th>871</th>\n",
       "      <td>-5.746200</td>\n",
       "      <td>5.627153</td>\n",
       "      <td>0</td>\n",
       "    </tr>\n",
       "    <tr>\n",
       "      <th>872</th>\n",
       "      <td>-8.386085</td>\n",
       "      <td>4.999825</td>\n",
       "      <td>0</td>\n",
       "    </tr>\n",
       "    <tr>\n",
       "      <th>873</th>\n",
       "      <td>-7.389736</td>\n",
       "      <td>0.046036</td>\n",
       "      <td>0</td>\n",
       "    </tr>\n",
       "    <tr>\n",
       "      <th>874</th>\n",
       "      <td>-7.167603</td>\n",
       "      <td>8.236485</td>\n",
       "      <td>0</td>\n",
       "    </tr>\n",
       "    <tr>\n",
       "      <th>875</th>\n",
       "      <td>-7.288626</td>\n",
       "      <td>11.091127</td>\n",
       "      <td>0</td>\n",
       "    </tr>\n",
       "  </tbody>\n",
       "</table>\n",
       "<p>876 rows × 3 columns</p>\n",
       "</div>"
      ],
      "text/plain": [
       "            x1         x2  Cluster1\n",
       "0   -10.020261   2.121302         0\n",
       "1     4.991281   7.806795         1\n",
       "2    -7.168814   2.264914         0\n",
       "3    -7.448985  10.860612         0\n",
       "4    -8.893356   0.974607         0\n",
       "..         ...        ...       ...\n",
       "871  -5.746200   5.627153         0\n",
       "872  -8.386085   4.999825         0\n",
       "873  -7.389736   0.046036         0\n",
       "874  -7.167603   8.236485         0\n",
       "875  -7.288626  11.091127         0\n",
       "\n",
       "[876 rows x 3 columns]"
      ]
     },
     "execution_count": 62,
     "metadata": {},
     "output_type": "execute_result"
    }
   ],
   "source": [
    "# Add a new column to the dataset with the cluster information\n",
    "dataset['Cluster1'] = yp\n",
    "\n",
    "dataset"
   ]
  },
  {
   "cell_type": "markdown",
   "metadata": {},
   "source": [
    "Print the number associated to each cluster"
   ]
  },
  {
   "cell_type": "code",
   "execution_count": 63,
   "metadata": {},
   "outputs": [
    {
     "data": {
      "text/plain": [
       "array([0, 1])"
      ]
     },
     "execution_count": 63,
     "metadata": {},
     "output_type": "execute_result"
    }
   ],
   "source": [
    "dataset.Cluster1.unique()"
   ]
  },
  {
   "cell_type": "markdown",
   "metadata": {},
   "source": [
    "Print the centroids"
   ]
  },
  {
   "cell_type": "code",
   "execution_count": 64,
   "metadata": {},
   "outputs": [
    {
     "data": {
      "text/plain": [
       "array([[-7.43730028,  5.13655002],\n",
       "       [ 5.8595342 ,  6.55155409]])"
      ]
     },
     "execution_count": 64,
     "metadata": {},
     "output_type": "execute_result"
    }
   ],
   "source": [
    "# centroids\n",
    "km.cluster_centers_"
   ]
  },
  {
   "cell_type": "markdown",
   "metadata": {},
   "source": [
    "Print the intertia metric"
   ]
  },
  {
   "cell_type": "code",
   "execution_count": 65,
   "metadata": {},
   "outputs": [
    {
     "data": {
      "text/plain": [
       "13056.820591032103"
      ]
     },
     "execution_count": 65,
     "metadata": {},
     "output_type": "execute_result"
    }
   ],
   "source": [
    "# inertia\n",
    "km.inertia_"
   ]
  },
  {
   "cell_type": "markdown",
   "metadata": {},
   "source": [
    "Plot a scatter plot of your data assigned to each cluster. Also plot the centroids"
   ]
  },
  {
   "cell_type": "code",
   "execution_count": 70,
   "metadata": {},
   "outputs": [
    {
     "data": {
      "image/png": "[encoded data removed]",
      "text/plain": [
       "<Figure size 432x288 with 1 Axes>"
      ]
     },
     "metadata": {
      "needs_background": "light"
     },
     "output_type": "display_data"
    }
   ],
   "source": [
    "df1 = dataset[dataset.Cluster1==0]\n",
    "df2 = dataset[dataset.Cluster1==1]\n",
    "\n",
    "plt.scatter(df1.x1, df1.x2, label='Estimated first group')\n",
    "plt.scatter(df2.x1, df2.x2, label='Estimated second group')\n",
    "\n",
    "plt.scatter(km.cluster_centers_[:,0], km.cluster_centers_[:,1], color='magenta', marker='*', label='Centroides', s=256)\n",
    "\n",
    "plt.title('x1 vs. x2')\n",
    "plt.xlabel('x2')\n",
    "plt.ylabel('x1')\n",
    "plt.legend()\n",
    "plt.show()"
   ]
  },
  {
   "cell_type": "markdown",
   "metadata": {},
   "source": [
    "### Questions \n",
    "\n",
    "Provides a detailed description of your results\n",
    "\n",
    "Your response: We can clearly observe the difference of the distribution of each column since first column has more negative numbers than the second one. We can also see that the blue dots are more dispersed than the orange ones."
   ]
  },
  {
   "cell_type": "markdown",
   "metadata": {},
   "source": [
    "# A4 Elbow plot\n",
    "\n",
    "Compute the Elbow plot"
   ]
  },
  {
   "cell_type": "code",
   "execution_count": 71,
   "metadata": {
    "scrolled": true
   },
   "outputs": [
    {
     "name": "stderr",
     "output_type": "stream",
     "text": [
      "C:\\Users\\0820n\\anaconda3\\lib\\site-packages\\sklearn\\cluster\\_kmeans.py:881: UserWarning: KMeans is known to have a memory leak on Windows with MKL, when there are less chunks than available threads. You can avoid it by setting the environment variable OMP_NUM_THREADS=4.\n",
      "  warnings.warn(\n"
     ]
    }
   ],
   "source": [
    "sse = []\n",
    "k_rng = range(1,10)\n",
    "for k in k_rng:\n",
    "    km = KMeans(n_clusters=k)\n",
    "    km.fit_predict(dataset[['x1','x2']])\n",
    "    sse.append(km.inertia_)"
   ]
  },
  {
   "cell_type": "code",
   "execution_count": 72,
   "metadata": {},
   "outputs": [
    {
     "data": {
      "image/png": "[encoded data removed]",
      "text/plain": [
       "<Figure size 432x288 with 1 Axes>"
      ]
     },
     "metadata": {
      "needs_background": "light"
     },
     "output_type": "display_data"
    }
   ],
   "source": [
    "plt.plot(k_rng,sse)\n",
    "\n",
    "plt.title('Elbow plot')\n",
    "plt.xlabel('K')\n",
    "plt.ylabel('Sum of squared error')\n",
    "plt.show()"
   ]
  },
  {
   "cell_type": "markdown",
   "metadata": {},
   "source": [
    "### Questions \n",
    "\n",
    "What is the best number of clusters K? (argue your response)\n",
    "\n",
    "Your response: The best number of clusters (K) is 3 because it is divided better, and can be more visually understood.\n",
    "\n",
    "\n",
    "Does this number of clusters agree with your inital guess? (argue your response)\n",
    "\n",
    "Your response: No, my initial guess was to 2 but now we can assume 3 is better. This number is enough to work with."
   ]
  },
  {
   "cell_type": "markdown",
   "metadata": {},
   "source": [
    "# A4 Normalizing the data: preprocessing using min max scaler\n"
   ]
  },
  {
   "cell_type": "markdown",
   "metadata": {},
   "source": [
    "Normalize the data using min max scaler"
   ]
  },
  {
   "cell_type": "code",
   "execution_count": 73,
   "metadata": {},
   "outputs": [
    {
     "data": {
      "text/html": [
       "<div>\n",
       "<style scoped>\n",
       "    .dataframe tbody tr th:only-of-type {\n",
       "        vertical-align: middle;\n",
       "    }\n",
       "\n",
       "    .dataframe tbody tr th {\n",
       "        vertical-align: top;\n",
       "    }\n",
       "\n",
       "    .dataframe thead th {\n",
       "        text-align: right;\n",
       "    }\n",
       "</style>\n",
       "<table border=\"1\" class=\"dataframe\">\n",
       "  <thead>\n",
       "    <tr style=\"text-align: right;\">\n",
       "      <th></th>\n",
       "      <th>x1</th>\n",
       "      <th>x2</th>\n",
       "      <th>Cluster1</th>\n",
       "    </tr>\n",
       "  </thead>\n",
       "  <tbody>\n",
       "    <tr>\n",
       "      <th>0</th>\n",
       "      <td>0.104486</td>\n",
       "      <td>0.289803</td>\n",
       "      <td>0</td>\n",
       "    </tr>\n",
       "    <tr>\n",
       "      <th>1</th>\n",
       "      <td>0.797917</td>\n",
       "      <td>0.596179</td>\n",
       "      <td>1</td>\n",
       "    </tr>\n",
       "    <tr>\n",
       "      <th>2</th>\n",
       "      <td>0.236203</td>\n",
       "      <td>0.297541</td>\n",
       "      <td>0</td>\n",
       "    </tr>\n",
       "    <tr>\n",
       "      <th>3</th>\n",
       "      <td>0.223261</td>\n",
       "      <td>0.760741</td>\n",
       "      <td>0</td>\n",
       "    </tr>\n",
       "    <tr>\n",
       "      <th>4</th>\n",
       "      <td>0.156541</td>\n",
       "      <td>0.228010</td>\n",
       "      <td>0</td>\n",
       "    </tr>\n",
       "    <tr>\n",
       "      <th>...</th>\n",
       "      <td>...</td>\n",
       "      <td>...</td>\n",
       "      <td>...</td>\n",
       "    </tr>\n",
       "    <tr>\n",
       "      <th>871</th>\n",
       "      <td>0.301918</td>\n",
       "      <td>0.478724</td>\n",
       "      <td>0</td>\n",
       "    </tr>\n",
       "    <tr>\n",
       "      <th>872</th>\n",
       "      <td>0.179973</td>\n",
       "      <td>0.444919</td>\n",
       "      <td>0</td>\n",
       "    </tr>\n",
       "    <tr>\n",
       "      <th>873</th>\n",
       "      <td>0.225998</td>\n",
       "      <td>0.177972</td>\n",
       "      <td>0</td>\n",
       "    </tr>\n",
       "    <tr>\n",
       "      <th>874</th>\n",
       "      <td>0.236259</td>\n",
       "      <td>0.619333</td>\n",
       "      <td>0</td>\n",
       "    </tr>\n",
       "    <tr>\n",
       "      <th>875</th>\n",
       "      <td>0.230669</td>\n",
       "      <td>0.773162</td>\n",
       "      <td>0</td>\n",
       "    </tr>\n",
       "  </tbody>\n",
       "</table>\n",
       "<p>876 rows × 3 columns</p>\n",
       "</div>"
      ],
      "text/plain": [
       "           x1        x2  Cluster1\n",
       "0    0.104486  0.289803         0\n",
       "1    0.797917  0.596179         1\n",
       "2    0.236203  0.297541         0\n",
       "3    0.223261  0.760741         0\n",
       "4    0.156541  0.228010         0\n",
       "..        ...       ...       ...\n",
       "871  0.301918  0.478724         0\n",
       "872  0.179973  0.444919         0\n",
       "873  0.225998  0.177972         0\n",
       "874  0.236259  0.619333         0\n",
       "875  0.230669  0.773162         0\n",
       "\n",
       "[876 rows x 3 columns]"
      ]
     },
     "execution_count": 73,
     "metadata": {},
     "output_type": "execute_result"
    }
   ],
   "source": [
    "from sklearn.preprocessing import MinMaxScaler\n",
    "\n",
    "scaler = MinMaxScaler()\n",
    "\n",
    "scaler.fit(dataset[['x1']])\n",
    "dataset['x1'] = scaler.transform(dataset[['x1']])\n",
    "\n",
    "scaler.fit(dataset[['x2']])\n",
    "dataset['x2'] = scaler.transform(dataset[['x2']])\n",
    "\n",
    "dataset"
   ]
  },
  {
   "cell_type": "markdown",
   "metadata": {},
   "source": [
    "Print a statistical summary of your columns (normalized data)"
   ]
  },
  {
   "cell_type": "code",
   "execution_count": 74,
   "metadata": {},
   "outputs": [
    {
     "data": {
      "text/html": [
       "<div>\n",
       "<style scoped>\n",
       "    .dataframe tbody tr th:only-of-type {\n",
       "        vertical-align: middle;\n",
       "    }\n",
       "\n",
       "    .dataframe tbody tr th {\n",
       "        vertical-align: top;\n",
       "    }\n",
       "\n",
       "    .dataframe thead th {\n",
       "        text-align: right;\n",
       "    }\n",
       "</style>\n",
       "<table border=\"1\" class=\"dataframe\">\n",
       "  <thead>\n",
       "    <tr style=\"text-align: right;\">\n",
       "      <th></th>\n",
       "      <th>x1</th>\n",
       "      <th>x2</th>\n",
       "      <th>Cluster1</th>\n",
       "    </tr>\n",
       "  </thead>\n",
       "  <tbody>\n",
       "    <tr>\n",
       "      <th>count</th>\n",
       "      <td>876.000000</td>\n",
       "      <td>876.000000</td>\n",
       "      <td>876.00000</td>\n",
       "    </tr>\n",
       "    <tr>\n",
       "      <th>mean</th>\n",
       "      <td>0.377357</td>\n",
       "      <td>0.471349</td>\n",
       "      <td>0.25000</td>\n",
       "    </tr>\n",
       "    <tr>\n",
       "      <th>std</th>\n",
       "      <td>0.277631</td>\n",
       "      <td>0.189483</td>\n",
       "      <td>0.43326</td>\n",
       "    </tr>\n",
       "    <tr>\n",
       "      <th>min</th>\n",
       "      <td>0.000000</td>\n",
       "      <td>0.000000</td>\n",
       "      <td>0.00000</td>\n",
       "    </tr>\n",
       "    <tr>\n",
       "      <th>25%</th>\n",
       "      <td>0.183327</td>\n",
       "      <td>0.315900</td>\n",
       "      <td>0.00000</td>\n",
       "    </tr>\n",
       "    <tr>\n",
       "      <th>50%</th>\n",
       "      <td>0.258384</td>\n",
       "      <td>0.461776</td>\n",
       "      <td>0.00000</td>\n",
       "    </tr>\n",
       "    <tr>\n",
       "      <th>75%</th>\n",
       "      <td>0.536371</td>\n",
       "      <td>0.619144</td>\n",
       "      <td>0.25000</td>\n",
       "    </tr>\n",
       "    <tr>\n",
       "      <th>max</th>\n",
       "      <td>1.000000</td>\n",
       "      <td>1.000000</td>\n",
       "      <td>1.00000</td>\n",
       "    </tr>\n",
       "  </tbody>\n",
       "</table>\n",
       "</div>"
      ],
      "text/plain": [
       "               x1          x2   Cluster1\n",
       "count  876.000000  876.000000  876.00000\n",
       "mean     0.377357    0.471349    0.25000\n",
       "std      0.277631    0.189483    0.43326\n",
       "min      0.000000    0.000000    0.00000\n",
       "25%      0.183327    0.315900    0.00000\n",
       "50%      0.258384    0.461776    0.00000\n",
       "75%      0.536371    0.619144    0.25000\n",
       "max      1.000000    1.000000    1.00000"
      ]
     },
     "execution_count": 74,
     "metadata": {},
     "output_type": "execute_result"
    }
   ],
   "source": [
    "dataset.describe()"
   ]
  },
  {
   "cell_type": "code",
   "execution_count": 3,
   "metadata": {},
   "outputs": [],
   "source": [
    "# 1) What is the minumum and maximum values of each variable\n",
    "# MIN: x1 = 0, x2 = 0\n",
    "# MAX: x1 = 1, x2 = 1\n",
    "\n",
    "# 2) What is the mean and standar deviation of each variable\n",
    "# x1: mean = 0.3773, std = 0.2773\n",
    "# x2: mean = 0.4713, std = 0.1893\n",
    "\n",
    "# 3) What the 25%, 50% and 75% represent?\n",
    "# 25% of the data are less or equal to 0.1833 for x1, and 0.3115 for x2.\n",
    "# Median. 50% of the data are less or equal to -6.6888 for x1, and 5.3126 for x2.\n",
    "# 75% of the data are less or equal to -0.6707 for x1, and 8.2329 for x2.\n",
    "\n",
    "# 4) Are the minimum and maximum values equal to your original data?\n"
   ]
  },
  {
   "cell_type": "markdown",
   "metadata": {},
   "source": [
    "Plot the scatter plot of your normalizaed data"
   ]
  },
  {
   "cell_type": "code",
   "execution_count": 81,
   "metadata": {},
   "outputs": [
    {
     "data": {
      "image/png": "[encoded data removed]",
      "text/plain": [
       "<Figure size 432x288 with 1 Axes>"
      ]
     },
     "metadata": {
      "needs_background": "light"
     },
     "output_type": "display_data"
    }
   ],
   "source": [
    "plt.scatter(dataset.x1,dataset.x2)\n",
    "plt.title('x1 vs. x2')\n",
    "plt.xlabel('x2')\n",
    "plt.ylabel('x1')\n",
    "plt.show()"
   ]
  },
  {
   "cell_type": "markdown",
   "metadata": {},
   "source": [
    "Do Kmeans clustering assuming a number of clusters accorgind to your scatter plot"
   ]
  },
  {
   "cell_type": "code",
   "execution_count": 82,
   "metadata": {},
   "outputs": [
    {
     "data": {
      "text/plain": [
       "array([0, 1, 0, 2, 0, 1, 0, 1, 1, 2, 1, 0, 0, 0, 0, 2, 2, 2, 0, 1, 2, 2,\n",
       "       2, 1, 2, 0, 2, 2, 0, 1, 0, 2, 1, 1, 0, 1, 0, 0, 2, 0, 0, 0, 1, 1,\n",
       "       0, 2, 2, 0, 1, 1, 0, 1, 1, 0, 0, 0, 2, 0, 0, 0, 1, 1, 2, 0, 0, 2,\n",
       "       0, 0, 1, 0, 0, 0, 0, 0, 0, 0, 1, 0, 0, 1, 1, 0, 2, 0, 0, 1, 2, 0,\n",
       "       0, 0, 2, 0, 1, 1, 0, 2, 2, 0, 2, 0, 0, 0, 1, 1, 1, 0, 0, 1, 1, 2,\n",
       "       1, 0, 0, 2, 1, 0, 0, 1, 2, 0, 0, 1, 1, 1, 0, 0, 0, 0, 1, 0, 1, 2,\n",
       "       1, 0, 1, 0, 0, 0, 0, 2, 2, 0, 0, 0, 0, 1, 1, 0, 2, 2, 0, 2, 1, 0,\n",
       "       1, 2, 0, 0, 2, 1, 2, 1, 0, 1, 2, 0, 0, 0, 2, 0, 0, 1, 0, 0, 1, 2,\n",
       "       0, 0, 1, 2, 1, 0, 1, 0, 2, 1, 1, 1, 1, 0, 2, 0, 2, 1, 0, 0, 2, 1,\n",
       "       0, 2, 1, 0, 2, 1, 1, 0, 0, 2, 1, 2, 0, 1, 1, 0, 0, 0, 0, 0, 0, 1,\n",
       "       1, 0, 2, 0, 0, 2, 2, 0, 0, 0, 2, 0, 1, 0, 0, 0, 0, 2, 0, 1, 0, 0,\n",
       "       2, 2, 0, 1, 0, 0, 2, 1, 1, 0, 1, 0, 2, 1, 2, 0, 0, 0, 1, 1, 0, 2,\n",
       "       2, 0, 0, 0, 2, 0, 2, 0, 0, 0, 0, 1, 1, 2, 0, 2, 1, 0, 1, 0, 2, 1,\n",
       "       2, 2, 0, 2, 1, 0, 0, 1, 1, 2, 2, 0, 1, 1, 1, 0, 0, 0, 0, 1, 1, 2,\n",
       "       0, 0, 0, 0, 0, 0, 0, 0, 0, 2, 2, 0, 1, 0, 0, 2, 0, 1, 0, 0, 0, 0,\n",
       "       2, 1, 0, 1, 1, 2, 1, 0, 0, 0, 0, 1, 1, 0, 2, 0, 1, 0, 0, 0, 1, 2,\n",
       "       0, 0, 2, 0, 2, 2, 2, 2, 1, 0, 0, 0, 1, 1, 1, 0, 0, 1, 2, 1, 0, 2,\n",
       "       2, 2, 1, 0, 1, 1, 0, 2, 2, 2, 0, 0, 1, 2, 0, 2, 0, 0, 0, 0, 2, 0,\n",
       "       2, 1, 0, 0, 2, 2, 0, 0, 0, 1, 0, 1, 1, 2, 0, 0, 2, 1, 0, 0, 0, 0,\n",
       "       0, 0, 2, 2, 2, 2, 1, 0, 2, 1, 0, 0, 1, 2, 0, 0, 1, 2, 0, 0, 2, 2,\n",
       "       1, 2, 1, 2, 1, 2, 2, 0, 0, 1, 0, 0, 0, 0, 1, 0, 0, 0, 1, 0, 2, 2,\n",
       "       1, 2, 1, 0, 0, 2, 0, 1, 1, 2, 2, 1, 0, 2, 0, 2, 0, 2, 2, 2, 0, 2,\n",
       "       2, 1, 1, 1, 1, 0, 0, 1, 1, 2, 0, 0, 0, 2, 0, 0, 2, 0, 0, 0, 0, 0,\n",
       "       2, 0, 0, 0, 2, 0, 2, 0, 0, 1, 0, 2, 2, 1, 0, 2, 1, 0, 0, 2, 0, 0,\n",
       "       1, 0, 1, 0, 1, 2, 0, 0, 0, 1, 2, 0, 0, 2, 0, 0, 0, 2, 0, 2, 2, 2,\n",
       "       2, 0, 0, 2, 0, 0, 2, 0, 0, 0, 0, 0, 0, 2, 0, 0, 1, 2, 2, 2, 2, 1,\n",
       "       0, 2, 1, 0, 2, 1, 1, 0, 0, 1, 1, 0, 0, 0, 2, 1, 2, 0, 2, 1, 1, 2,\n",
       "       1, 0, 0, 0, 1, 1, 2, 0, 1, 0, 0, 1, 0, 2, 0, 1, 0, 2, 1, 0, 2, 0,\n",
       "       1, 0, 1, 0, 0, 0, 2, 0, 2, 0, 1, 2, 0, 2, 0, 2, 1, 2, 0, 0, 1, 0,\n",
       "       0, 1, 0, 2, 0, 0, 2, 2, 0, 2, 1, 1, 1, 1, 1, 0, 1, 0, 2, 2, 0, 2,\n",
       "       2, 0, 0, 1, 0, 0, 0, 0, 0, 2, 1, 2, 2, 2, 2, 0, 2, 0, 0, 0, 2, 0,\n",
       "       2, 2, 0, 2, 0, 0, 0, 0, 2, 0, 0, 2, 0, 0, 0, 0, 0, 0, 2, 0, 2, 2,\n",
       "       0, 1, 1, 2, 0, 2, 2, 1, 0, 1, 0, 0, 1, 2, 2, 2, 2, 0, 2, 2, 2, 0,\n",
       "       0, 0, 2, 0, 1, 0, 0, 2, 0, 0, 0, 0, 0, 1, 0, 0, 2, 1, 2, 1, 0, 0,\n",
       "       1, 0, 2, 2, 0, 1, 0, 1, 2, 2, 2, 1, 0, 2, 1, 0, 0, 0, 0, 1, 2, 1,\n",
       "       0, 0, 1, 1, 0, 1, 0, 0, 0, 1, 1, 0, 0, 1, 0, 1, 0, 0, 2, 0, 0, 0,\n",
       "       0, 0, 1, 2, 0, 0, 0, 1, 2, 0, 0, 1, 2, 0, 0, 2, 0, 0, 1, 0, 0, 2,\n",
       "       1, 2, 1, 0, 0, 1, 1, 0, 1, 1, 1, 1, 1, 1, 0, 2, 0, 1, 2, 0, 0, 0,\n",
       "       0, 0, 1, 2, 1, 0, 2, 0, 1, 2, 1, 2, 2, 2, 0, 0, 0, 0, 0, 2, 1, 0,\n",
       "       0, 2, 0, 0, 0, 0, 1, 0, 1, 0, 1, 2, 0, 0, 0, 0, 2, 2])"
      ]
     },
     "execution_count": 82,
     "metadata": {},
     "output_type": "execute_result"
    }
   ],
   "source": [
    "# Initialize model and define number of clusters\n",
    "km = KMeans(n_clusters=3)\n",
    "\n",
    "# Do K-means clustering (assing each point in the dataset to a cluster)\n",
    "#yp = km.fit_predict(dataset)\n",
    "yp = km.fit_predict(dataset[['x1','x2']])\n",
    "\n",
    "# Print estimated cluster of each point in the dataser\n",
    "yp"
   ]
  },
  {
   "cell_type": "markdown",
   "metadata": {},
   "source": [
    "Add to your dataset a column with the assihned cluster to each data point"
   ]
  },
  {
   "cell_type": "code",
   "execution_count": 83,
   "metadata": {},
   "outputs": [
    {
     "data": {
      "text/html": [
       "<div>\n",
       "<style scoped>\n",
       "    .dataframe tbody tr th:only-of-type {\n",
       "        vertical-align: middle;\n",
       "    }\n",
       "\n",
       "    .dataframe tbody tr th {\n",
       "        vertical-align: top;\n",
       "    }\n",
       "\n",
       "    .dataframe thead th {\n",
       "        text-align: right;\n",
       "    }\n",
       "</style>\n",
       "<table border=\"1\" class=\"dataframe\">\n",
       "  <thead>\n",
       "    <tr style=\"text-align: right;\">\n",
       "      <th></th>\n",
       "      <th>x1</th>\n",
       "      <th>x2</th>\n",
       "      <th>Cluster1</th>\n",
       "      <th>Cluster2</th>\n",
       "    </tr>\n",
       "  </thead>\n",
       "  <tbody>\n",
       "    <tr>\n",
       "      <th>0</th>\n",
       "      <td>0.104486</td>\n",
       "      <td>0.289803</td>\n",
       "      <td>0</td>\n",
       "      <td>0</td>\n",
       "    </tr>\n",
       "    <tr>\n",
       "      <th>1</th>\n",
       "      <td>0.797917</td>\n",
       "      <td>0.596179</td>\n",
       "      <td>1</td>\n",
       "      <td>1</td>\n",
       "    </tr>\n",
       "    <tr>\n",
       "      <th>2</th>\n",
       "      <td>0.236203</td>\n",
       "      <td>0.297541</td>\n",
       "      <td>0</td>\n",
       "      <td>0</td>\n",
       "    </tr>\n",
       "    <tr>\n",
       "      <th>3</th>\n",
       "      <td>0.223261</td>\n",
       "      <td>0.760741</td>\n",
       "      <td>0</td>\n",
       "      <td>2</td>\n",
       "    </tr>\n",
       "    <tr>\n",
       "      <th>4</th>\n",
       "      <td>0.156541</td>\n",
       "      <td>0.228010</td>\n",
       "      <td>0</td>\n",
       "      <td>0</td>\n",
       "    </tr>\n",
       "    <tr>\n",
       "      <th>...</th>\n",
       "      <td>...</td>\n",
       "      <td>...</td>\n",
       "      <td>...</td>\n",
       "      <td>...</td>\n",
       "    </tr>\n",
       "    <tr>\n",
       "      <th>871</th>\n",
       "      <td>0.301918</td>\n",
       "      <td>0.478724</td>\n",
       "      <td>0</td>\n",
       "      <td>0</td>\n",
       "    </tr>\n",
       "    <tr>\n",
       "      <th>872</th>\n",
       "      <td>0.179973</td>\n",
       "      <td>0.444919</td>\n",
       "      <td>0</td>\n",
       "      <td>0</td>\n",
       "    </tr>\n",
       "    <tr>\n",
       "      <th>873</th>\n",
       "      <td>0.225998</td>\n",
       "      <td>0.177972</td>\n",
       "      <td>0</td>\n",
       "      <td>0</td>\n",
       "    </tr>\n",
       "    <tr>\n",
       "      <th>874</th>\n",
       "      <td>0.236259</td>\n",
       "      <td>0.619333</td>\n",
       "      <td>0</td>\n",
       "      <td>2</td>\n",
       "    </tr>\n",
       "    <tr>\n",
       "      <th>875</th>\n",
       "      <td>0.230669</td>\n",
       "      <td>0.773162</td>\n",
       "      <td>0</td>\n",
       "      <td>2</td>\n",
       "    </tr>\n",
       "  </tbody>\n",
       "</table>\n",
       "<p>876 rows × 4 columns</p>\n",
       "</div>"
      ],
      "text/plain": [
       "           x1        x2  Cluster1  Cluster2\n",
       "0    0.104486  0.289803         0         0\n",
       "1    0.797917  0.596179         1         1\n",
       "2    0.236203  0.297541         0         0\n",
       "3    0.223261  0.760741         0         2\n",
       "4    0.156541  0.228010         0         0\n",
       "..        ...       ...       ...       ...\n",
       "871  0.301918  0.478724         0         0\n",
       "872  0.179973  0.444919         0         0\n",
       "873  0.225998  0.177972         0         0\n",
       "874  0.236259  0.619333         0         2\n",
       "875  0.230669  0.773162         0         2\n",
       "\n",
       "[876 rows x 4 columns]"
      ]
     },
     "execution_count": 83,
     "metadata": {},
     "output_type": "execute_result"
    }
   ],
   "source": [
    "# Add a new column to the dataset with the cluster information\n",
    "dataset['Cluster2'] = yp\n",
    "\n",
    "dataset"
   ]
  },
  {
   "cell_type": "markdown",
   "metadata": {},
   "source": [
    "Print the centroids"
   ]
  },
  {
   "cell_type": "code",
   "execution_count": 84,
   "metadata": {},
   "outputs": [
    {
     "data": {
      "text/plain": [
       "array([[0.2341291 , 0.31445496],\n",
       "       [0.83802479, 0.52853703],\n",
       "       [0.20462638, 0.70817304]])"
      ]
     },
     "execution_count": 84,
     "metadata": {},
     "output_type": "execute_result"
    }
   ],
   "source": [
    "# centroids\n",
    "km.cluster_centers_"
   ]
  },
  {
   "cell_type": "markdown",
   "metadata": {},
   "source": [
    "Print the intetia metric"
   ]
  },
  {
   "cell_type": "code",
   "execution_count": 85,
   "metadata": {},
   "outputs": [
    {
     "data": {
      "text/plain": [
       "12.635813315514142"
      ]
     },
     "execution_count": 85,
     "metadata": {},
     "output_type": "execute_result"
    }
   ],
   "source": [
    "# inertia\n",
    "km.inertia_"
   ]
  },
  {
   "cell_type": "markdown",
   "metadata": {},
   "source": [
    "Plot a scatter plot of your data assigned to each cluster. Also plot the centroids"
   ]
  },
  {
   "cell_type": "code",
   "execution_count": 88,
   "metadata": {},
   "outputs": [
    {
     "data": {
      "image/png": "[encoded data removed]",
      "text/plain": [
       "<Figure size 432x288 with 1 Axes>"
      ]
     },
     "metadata": {
      "needs_background": "light"
     },
     "output_type": "display_data"
    }
   ],
   "source": [
    "df1 = dataset[dataset.Cluster2==0]\n",
    "df2 = dataset[dataset.Cluster2==1]\n",
    "df3 = dataset[dataset.Cluster2==2]\n",
    "\n",
    "plt.scatter(df1.x1, df1.x2, label='Estimated first group')\n",
    "plt.scatter(df2.x1, df2.x2, label='Estimated second group')\n",
    "plt.scatter(df3.x1, df3.x2, label='Estimated third group')\n",
    "\n",
    "plt.scatter(km.cluster_centers_[:,0], km.cluster_centers_[:,1], color='magenta', marker='*', label='Centroides', s=256)\n",
    "\n",
    "plt.title('x1 vs. x2')\n",
    "plt.xlabel('x2')\n",
    "plt.ylabel('x1')\n",
    "plt.legend()\n",
    "plt.show()"
   ]
  },
  {
   "cell_type": "markdown",
   "metadata": {},
   "source": [
    "### Questions \n",
    "\n",
    "Provides a detailed description of your results. Does the normalization improves the clustering?\n",
    "\n",
    "Your response: Normalization provides a more detailed explanation of the data, and scaling can be visually useful in most cases. In this case, it does help a lot because we can see the dots have a clear boundary of their cluster, and it's more easy to read."
   ]
  },
  {
   "cell_type": "markdown",
   "metadata": {},
   "source": [
    "# Descipcion de tu percepcion del nivel de desarrollo de la subcompetencia \n",
    "\n",
    "### SING0202A Interpretación de variables\n"
   ]
  },
  {
   "cell_type": "markdown",
   "metadata": {},
   "source": [
    "Escribe tu descripción del nivel de logro del siguiente criterio de la subcompetencia\n",
    "\n",
    "**Interpreta interacciones**. Interpreta interacciones entre variables relevantes en un problema, como base para la construcción de modelos bivariados basados en datos de un fenómeno investigado que le permita reproducir la respuesta del mismo."
   ]
  },
  {
   "cell_type": "markdown",
   "metadata": {},
   "source": [
    "Tu respuesta: Con esta competencia soy capaz de visualizar y entender una tabla con datos extraídos para su análisis. Puedo comprender la correlación que existe entre estos datos y su significado."
   ]
  },
  {
   "cell_type": "markdown",
   "metadata": {},
   "source": [
    "Escribe tu descripción del nivel de logro del siguiente criterio de la subcompetencia\n",
    "\n",
    "**Construcción de modelos**. Es capaz de construir modelos bivariados que expliquen el comportamiento de un fenómeno."
   ]
  },
  {
   "cell_type": "markdown",
   "metadata": {},
   "source": [
    "Tu respuesta: Con la ayuda de herramientas tecnológicas puedo realizar comparación, gráficas y análisis estadísticos para poder explicar la relación que hay entre las variables de un dataset."
   ]
  }
 ],
 "metadata": {
  "kernelspec": {
   "display_name": "Python 3",
   "language": "python",
   "name": "python3"
  },
  "language_info": {
   "codemirror_mode": {
    "name": "ipython",
    "version": 3
   },
   "file_extension": ".py",
   "mimetype": "text/x-python",
   "name": "python",
   "nbconvert_exporter": "python",
   "pygments_lexer": "ipython3",
   "version": "3.8.8"
  }
 },
 "nbformat": 4,
 "nbformat_minor": 2
}
